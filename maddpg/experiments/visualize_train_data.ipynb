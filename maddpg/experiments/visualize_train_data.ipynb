{
 "cells": [
  {
   "cell_type": "code",
   "execution_count": 2,
   "metadata": {},
   "outputs": [],
   "source": [
    "import numpy as np\n",
    "import matplotlib.pyplot as plt\n",
    "import pandas as pd\n",
    "import seaborn as sns\n",
    "import pickle\n",
    "import cv2\n",
    "import time\n",
    "import gzip\n",
    "\n",
    "BLUE = [0, 0.4470, 0.7410]\n",
    "RED = [0.8500, 0.3250, 0.0980]\n",
    "YELLOW = [0.929, 0.6940, 0.1250]"
   ]
  },
  {
   "cell_type": "code",
   "execution_count": 16,
   "metadata": {},
   "outputs": [],
   "source": [
    "# make a path runs 2-agent_WPM_fully-connected_slow_i where i is the run number\n",
    "num_runs = 3\n",
    "rsrn_type = 'WSM'\n",
    "agent_limitation = 'slow'\n",
    "network = 'fully-connected'\n",
    "num_agents = 2\n",
    "logs = []\n",
    "for i in range(num_runs):\n",
    "    path = './saved_policy/' + str(num_agents) + '-agent_' + rsrn_type + '_' + network + '_' + agent_limitation + '_' + str(i+1) + '/'\n",
    "    with gzip.open(path+'rewards.pkl.gz', 'rb') as f:\n",
    "        logs.append(pickle.load(f))\n",
    "\n"
   ]
  },
  {
   "cell_type": "code",
   "execution_count": 13,
   "metadata": {},
   "outputs": [
    {
     "ename": "IndexError",
     "evalue": "only integers, slices (`:`), ellipsis (`...`), numpy.newaxis (`None`) and integer or boolean arrays are valid indices",
     "output_type": "error",
     "traceback": [
      "\u001b[0;31m---------------------------------------------------------------------------\u001b[0m",
      "\u001b[0;31mIndexError\u001b[0m                                Traceback (most recent call last)",
      "\u001b[1;32m/Users/hossein/repos/multi-agent-rsrn/maddpg/experiments/visualize_train_data.ipynb Cell 2\u001b[0m line \u001b[0;36m8\n\u001b[1;32m      <a href='vscode-notebook-cell:/Users/hossein/repos/multi-agent-rsrn/maddpg/experiments/visualize_train_data.ipynb#X21sZmlsZQ%3D%3D?line=4'>5</a>\u001b[0m \u001b[39m# plot log.cum_individual_rewards\u001b[39;00m\n\u001b[1;32m      <a href='vscode-notebook-cell:/Users/hossein/repos/multi-agent-rsrn/maddpg/experiments/visualize_train_data.ipynb#X21sZmlsZQ%3D%3D?line=5'>6</a>\u001b[0m \u001b[39m# print(log)\u001b[39;00m\n\u001b[1;32m      <a href='vscode-notebook-cell:/Users/hossein/repos/multi-agent-rsrn/maddpg/experiments/visualize_train_data.ipynb#X21sZmlsZQ%3D%3D?line=6'>7</a>\u001b[0m plt\u001b[39m.\u001b[39mfigure(figsize\u001b[39m=\u001b[39m(\u001b[39m10\u001b[39m, \u001b[39m5\u001b[39m))\n\u001b[0;32m----> <a href='vscode-notebook-cell:/Users/hossein/repos/multi-agent-rsrn/maddpg/experiments/visualize_train_data.ipynb#X21sZmlsZQ%3D%3D?line=7'>8</a>\u001b[0m plt\u001b[39m.\u001b[39mplot(log[\u001b[39m'\u001b[39;49m\u001b[39mfinal_dis2landmark\u001b[39;49m\u001b[39m'\u001b[39;49m])\n\u001b[1;32m      <a href='vscode-notebook-cell:/Users/hossein/repos/multi-agent-rsrn/maddpg/experiments/visualize_train_data.ipynb#X21sZmlsZQ%3D%3D?line=8'>9</a>\u001b[0m plt\u001b[39m.\u001b[39mxlabel(\u001b[39m'\u001b[39m\u001b[39mEpisode\u001b[39m\u001b[39m'\u001b[39m)\n\u001b[1;32m     <a href='vscode-notebook-cell:/Users/hossein/repos/multi-agent-rsrn/maddpg/experiments/visualize_train_data.ipynb#X21sZmlsZQ%3D%3D?line=9'>10</a>\u001b[0m plt\u001b[39m.\u001b[39mylabel(\u001b[39m'\u001b[39m\u001b[39mCumulative Indv Reward\u001b[39m\u001b[39m'\u001b[39m)\n",
      "\u001b[0;31mIndexError\u001b[0m: only integers, slices (`:`), ellipsis (`...`), numpy.newaxis (`None`) and integer or boolean arrays are valid indices"
     ]
    },
    {
     "data": {
      "text/plain": [
       "<Figure size 1000x500 with 0 Axes>"
      ]
     },
     "metadata": {},
     "output_type": "display_data"
    }
   ],
   "source": [
    "# load rewards.pkl.gz file\n",
    "with gzip.open('rewards.pkl.gz', 'rb') as f:\n",
    "    log = pickle.load(f)\n",
    "\n",
    "# plot log.cum_individual_rewards\n",
    "# print(log)\n",
    "plt.figure(figsize=(10, 5))\n",
    "plt.plot(log['final_dis2landmark'])\n",
    "plt.xlabel('Episode')\n",
    "plt.ylabel('Cumulative Indv Reward')\n"
   ]
  }
 ],
 "metadata": {
  "kernelspec": {
   "display_name": "base",
   "language": "python",
   "name": "python3"
  },
  "language_info": {
   "codemirror_mode": {
    "name": "ipython",
    "version": 3
   },
   "file_extension": ".py",
   "mimetype": "text/x-python",
   "name": "python",
   "nbconvert_exporter": "python",
   "pygments_lexer": "ipython3",
   "version": "3.9.18"
  }
 },
 "nbformat": 4,
 "nbformat_minor": 2
}
